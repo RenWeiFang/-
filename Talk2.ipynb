{
 "cells": [
  {
   "cell_type": "code",
   "execution_count": 15,
   "id": "14c027b4-5b2e-4c21-8d2c-324ce0fa1cc5",
   "metadata": {},
   "outputs": [
    {
     "name": "stdout",
     "output_type": "stream",
     "text": [
      "Requirement already satisfied: gtts in c:\\users\\a2790\\anaconda3\\envs\\notebook-7.0.8\\lib\\site-packages (2.5.1)\n",
      "Requirement already satisfied: requests<3,>=2.27 in c:\\users\\a2790\\anaconda3\\envs\\notebook-7.0.8\\lib\\site-packages (from gtts) (2.31.0)\n",
      "Requirement already satisfied: click<8.2,>=7.1 in c:\\users\\a2790\\anaconda3\\envs\\notebook-7.0.8\\lib\\site-packages (from gtts) (8.1.7)\n",
      "Requirement already satisfied: colorama in c:\\users\\a2790\\anaconda3\\envs\\notebook-7.0.8\\lib\\site-packages (from click<8.2,>=7.1->gtts) (0.4.6)\n",
      "Requirement already satisfied: charset-normalizer<4,>=2 in c:\\users\\a2790\\anaconda3\\envs\\notebook-7.0.8\\lib\\site-packages (from requests<3,>=2.27->gtts) (2.0.4)\n",
      "Requirement already satisfied: idna<4,>=2.5 in c:\\users\\a2790\\anaconda3\\envs\\notebook-7.0.8\\lib\\site-packages (from requests<3,>=2.27->gtts) (3.7)\n",
      "Requirement already satisfied: urllib3<3,>=1.21.1 in c:\\users\\a2790\\anaconda3\\envs\\notebook-7.0.8\\lib\\site-packages (from requests<3,>=2.27->gtts) (2.1.0)\n",
      "Requirement already satisfied: certifi>=2017.4.17 in c:\\users\\a2790\\anaconda3\\envs\\notebook-7.0.8\\lib\\site-packages (from requests<3,>=2.27->gtts) (2024.2.2)\n"
     ]
    }
   ],
   "source": [
    "!pip install gtts"
   ]
  },
  {
   "cell_type": "code",
   "execution_count": 16,
   "id": "90d7ca41-9477-4d50-82b2-bad94d94ae7a",
   "metadata": {},
   "outputs": [],
   "source": [
    "#重複需 kernel/restart"
   ]
  },
  {
   "cell_type": "code",
   "execution_count": 17,
   "id": "efc056f0-82a3-4c49-b825-f93f5a5dac6e",
   "metadata": {},
   "outputs": [],
   "source": [
    "from gtts import gTTS\n",
    "tts = gTTS(text='您好', lang='zh-TW')\n",
    "tts.save('fa.mp3')"
   ]
  },
  {
   "cell_type": "code",
   "execution_count": 18,
   "id": "7a087b7f-5e98-48e5-ba8b-eaf6a2918660",
   "metadata": {},
   "outputs": [],
   "source": [
    "#gTTs (goole Test-to-speech)建構式的 Long 語言代碼，zh-TW或zh-CN漢語，英文en，日文 ja，法文fr，俄語ru，西班牙語es"
   ]
  },
  {
   "cell_type": "code",
   "execution_count": 19,
   "id": "284ee8c8-9bc2-438f-9704-bdd04e75befb",
   "metadata": {},
   "outputs": [
    {
     "name": "stdout",
     "output_type": "stream",
     "text": [
      "Requirement already satisfied: pygame in c:\\users\\a2790\\anaconda3\\envs\\notebook-7.0.8\\lib\\site-packages (2.5.2)\n"
     ]
    }
   ],
   "source": [
    "!pip install pygame"
   ]
  },
  {
   "cell_type": "code",
   "execution_count": 20,
   "id": "347072e4-7dae-4841-9d45-b12c4721ab41",
   "metadata": {},
   "outputs": [],
   "source": [
    "from pygame import mixer\n",
    "mixer.init()\n",
    "mixer.music.load('fa.mp3')\n",
    "mixer.music.play()"
   ]
  },
  {
   "cell_type": "code",
   "execution_count": 21,
   "id": "04028648-28f7-4eae-9ef4-f3e7e8c503fd",
   "metadata": {},
   "outputs": [],
   "source": [
    "from gtts import gTTS\n",
    "tts = gTTS(text='ありがとう', lang='ja')\n",
    "tts.save('japanese_thank_you.mp3')"
   ]
  },
  {
   "cell_type": "code",
   "execution_count": 22,
   "id": "710b3fa7-7d50-4385-b5e1-d831f8599daa",
   "metadata": {},
   "outputs": [],
   "source": [
    "from pygame import mixer\n",
    "mixer.init()\n",
    "mixer.music.load('japanese_thank_you.mp3')\n",
    "mixer.music.play()"
   ]
  },
  {
   "cell_type": "code",
   "execution_count": 23,
   "id": "19c48a56-9582-4b08-bc0d-99e1dbd87405",
   "metadata": {},
   "outputs": [],
   "source": [
    "# temp file\n",
    "import tempfile\n",
    "def speak(sentence):\n",
    "    with tempfile.NamedTemporaryFile(delete=True) as fp:\n",
    "        tts = gTTS(text=sentence, lang='zh-CN')\n",
    "        tts.save(f\"{fp.name}.mp3\")\n",
    "        mixer.init()\n",
    "        mixer.music.load(f\"{fp.name}.mp3\")\n",
    "        mixer.music.play()"
   ]
  },
  {
   "cell_type": "code",
   "execution_count": 24,
   "id": "c37aa766-eac2-430b-b438-3c83dbbf011b",
   "metadata": {},
   "outputs": [],
   "source": [
    "speak('你好')"
   ]
  },
  {
   "cell_type": "code",
   "execution_count": 25,
   "id": "f1556688-e67a-48ea-ad7c-bd13e62eeefb",
   "metadata": {},
   "outputs": [],
   "source": [
    "import tempfile\n",
    "from gtts import gTTS\n",
    "from pygame import mixer\n",
    "\n",
    "def speak(sentence):\n",
    "    with tempfile.NamedTemporaryFile(delete=True) as fp:\n",
    "        tts1 = gTTS(text=sentence, lang='ja')\n",
    "        tts1.save(f\"{fp.name}.mp3\")\n",
    "        mixer.init()\n",
    "        mixer.music.load(f\"{fp.name}.mp3\")\n",
    "        mixer.music.play()"
   ]
  },
  {
   "cell_type": "code",
   "execution_count": 26,
   "id": "9276544b-dcac-4b9c-9796-222322dfde07",
   "metadata": {},
   "outputs": [],
   "source": [
    "# 各文の意味: \"こんにちは\""
   ]
  },
  {
   "cell_type": "code",
   "execution_count": 27,
   "id": "04252ecc-c9cd-4fda-8702-eaf7a74ebda9",
   "metadata": {},
   "outputs": [],
   "source": [
    "speak(\"こんにちは\")"
   ]
  },
  {
   "cell_type": "code",
   "execution_count": null,
   "id": "141576a5-c605-4152-8372-63e836147ed0",
   "metadata": {},
   "outputs": [],
   "source": []
  }
 ],
 "metadata": {
  "kernelspec": {
   "display_name": "Python 3 (ipykernel)",
   "language": "python",
   "name": "python3"
  },
  "language_info": {
   "codemirror_mode": {
    "name": "ipython",
    "version": 3
   },
   "file_extension": ".py",
   "mimetype": "text/x-python",
   "name": "python",
   "nbconvert_exporter": "python",
   "pygments_lexer": "ipython3",
   "version": "3.12.3"
  }
 },
 "nbformat": 4,
 "nbformat_minor": 5
}
